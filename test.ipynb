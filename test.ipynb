{
 "cells": [
  {
   "cell_type": "markdown",
   "id": "f8d3c87f",
   "metadata": {},
   "source": [
    "# Multi-Agent Collaboration Simple Task\n",
    "Test task for a simple scenario for post generator agent and evaluator agent working together to write, evaluate and get human approval for a UniTok post"
   ]
  },
  {
   "cell_type": "code",
   "execution_count": 26,
   "id": "cf196c3f",
   "metadata": {},
   "outputs": [],
   "source": [
    "import boto3\n",
    "import json"
   ]
  },
  {
   "cell_type": "code",
   "execution_count": 22,
   "id": "4c84f66f",
   "metadata": {},
   "outputs": [],
   "source": [
    "task = {\n",
    "  \"type\": \"new\",\n",
    "  \"body\": {\n",
    "    \"task\": \"Create a rental post about playful rainbow unicorns for children going to a birthday party of Bob.\"\n",
    "  }\n",
    "}"
   ]
  },
  {
   "cell_type": "code",
   "execution_count": 25,
   "id": "c5e94bd5",
   "metadata": {},
   "outputs": [],
   "source": [
    "account_id = 692090108827 #Replace with your account ID\n",
    "sqs_queue_url = f'https://sqs.us-east-1.amazonaws.com/{account_id}/post-generator-agent-tasks'"
   ]
  },
  {
   "cell_type": "code",
   "execution_count": null,
   "id": "730d5444",
   "metadata": {},
   "outputs": [],
   "source": [
    "sqs = boto3.resource('sqs')\n",
    "sqs.send_message(\n",
    "    QueueUrl=sqs_queue_url,\n",
    "    MessageBody=json.dumps(task)\n",
    ")"
   ]
  },
  {
   "cell_type": "markdown",
   "id": "dddfd5f5",
   "metadata": {},
   "source": [
    "Observe the results at https://d1ddslkbqz3jgl.cloudfront.net/"
   ]
  }
 ],
 "metadata": {
  "kernelspec": {
   "display_name": "strands",
   "language": "python",
   "name": "python3"
  },
  "language_info": {
   "codemirror_mode": {
    "name": "ipython",
    "version": 3
   },
   "file_extension": ".py",
   "mimetype": "text/x-python",
   "name": "python",
   "nbconvert_exporter": "python",
   "pygments_lexer": "ipython3",
   "version": "3.11.11"
  }
 },
 "nbformat": 4,
 "nbformat_minor": 5
}
