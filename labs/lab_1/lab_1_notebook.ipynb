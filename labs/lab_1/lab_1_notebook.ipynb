{
 "cells": [
  {
   "cell_type": "markdown",
   "id": "1e3aa37e",
   "metadata": {},
   "source": [
    "# Lab 1: Building a Synchronous Marketing Agent for UniTok\n",
    "\n",
    "## Introduction\n",
    "\n",
    "Welcome to the first lab in our workshop on building asynchronous AI agents with Strands Agents SDK! In this lab, we'll create a synchronous marketing agent for UniTok, our fictional unicorn rental social media platform.\n",
    "\n",
    "By the end of this lab, you'll understand the basic structure of a Strands Agent, how to configure it with custom tools, and how to use it to generate engaging marketing content.\n",
    "\n",
    "Let's get started!\n",
    "\n",
    "## Setup\n",
    "\n",
    "⚠️⚠️ Please run the [prerequisites](../lab_0/prerequisites.ipynb) before continuing with this lab, if you haven't done so already. ⚠️⚠️\n",
    "\n",
    "This lab assumes that an ENVIRONMENT VARIABLE `PUBLISH_API_ENDPOINT` is set with the URL to use to publish to UniTok website."
   ]
  },
  {
   "cell_type": "code",
   "execution_count": null,
   "id": "e105cb9c",
   "metadata": {},
   "outputs": [],
   "source": [
    "# Install required packages\n",
    "%pip install --upgrade strands-agents strands-agents-tools requests boto3"
   ]
  },
  {
   "cell_type": "code",
   "execution_count": null,
   "id": "a4ebff1b",
   "metadata": {},
   "outputs": [],
   "source": [
    "%env AWS_DEFAULT_REGION=us-west-2 "
   ]
  },
  {
   "cell_type": "code",
   "execution_count": null,
   "id": "95efe0ea",
   "metadata": {},
   "outputs": [],
   "source": [
    "# Import required libraries\n",
    "import json\n",
    "import os\n",
    "import requests\n",
    "from strands import Agent, tool\n",
    "from strands.models import BedrockModel\n",
    "import boto3\n",
    "\n",
    "response = boto3.client('cloudformation').describe_stacks(StackName=\"UniTokStack\")\n",
    "        \n",
    "# Get the Unito API endpoint URL\n",
    "for output in response['Stacks'][0]['Outputs']:\n",
    "    if output['OutputKey'] == \"ApiEndpoint\":\n",
    "        PUBLISH_API_ENDPOINT = f'{output[\"OutputValue\"]}posts'\n",
    "    if output['OutputKey'] == \"DistributionDomainName\":\n",
    "        UNITOK_URL = f'http://{output[\"OutputValue\"]}'\n",
    "print(f\"Using following API endpoint for publishing UniTok posts: {PUBLISH_API_ENDPOINT}\")\n",
    "print(f\"You can reach the UniTok site at : {UNITOK_URL}\")"
   ]
  },
  {
   "cell_type": "markdown",
   "id": "11aac18a",
   "metadata": {},
   "source": [
    "## Understanding the UniTok Platform\n",
    "\n",
    "UniTok is a fictional social media platform where users can browse, rent, and share experiences with unicorns. Our marketing agent will help create engaging posts to promote Unicorn Rentals' services on this platform.\n",
    "\n",
    "The UniTok backend API is already deployed and running - you don't need to worry about setting up these resources as they're outside the scope of this workshop.\n",
    "\n",
    "Let's explore what makes a good UniTok post:\n",
    "\n",
    "> **Effective UniTok Posts:**\n",
    "> - Are family-friendly and positive\n",
    "> - Highlight the magical experience of spending time with unicorns\n",
    "> - Mention the color selection feature when appropriate (colors: pink, blue, purple, green, yellow, and rainbow)\n",
    "> - Use emojis sparingly but effectively\n",
    "> - Keep content between 50-200 characters for optimal engagement\n",
    "> - Appeal to families with children, fantasy enthusiasts, and event planners\n",
    "\n",
    "## Creating the Agent's Tools\n",
    "\n",
    "Our agent needs tools to interact with the UniTok platform. Let's start by implementing the `publish_post` tool."
   ]
  },
  {
   "cell_type": "code",
   "execution_count": null,
   "id": "0fff14f2",
   "metadata": {},
   "outputs": [],
   "source": [
    "# TODO: Implement the publish_post tool\n",
    "@tool\n",
    "def publish_post(\n",
    "    content: str, \n",
    "    author: str = \"Unicorn Rentals\", \n",
    "    unicorn_color: str = \"rainbow\", \n",
    "    image_url: str = None) -> str:\n",
    "    \"\"\"\n",
    "    Publish a post to the UniTok social media platform.\n",
    "    \n",
    "    Args:\n",
    "        content (str): The text content of the post.\n",
    "        author (str, optional): The author of the post. Defaults to \"Unicorn Rentals\".\n",
    "        unicorn_color (str, optional): The color of the unicorn. Choose from: pink, blue, purple, green, yellow, or rainbow. Defaults to \"rainbow\".\n",
    "        image_url (str, optional): URL to an image to include with the post. Defaults to None.\n",
    "        \n",
    "    Returns:\n",
    "        str: A message indicating the post was published successfully, or an error message.\n",
    "    \"\"\"\n",
    "    \n",
    "    # For this lab, we'll simulate posting to UniTok\n",
    "    print(f\"Publishing post to UniTok: {content}\")\n",
    "    print(f\"Author: {author}\")\n",
    "    print(f\"Unicorn Color: {unicorn_color}\")\n",
    "    if image_url:\n",
    "        print(f\"Image URL: {image_url}\")\n",
    "    post_data = {\n",
    "        \"content\": content,\n",
    "        \"author\": author,\n",
    "        \"unicornColor\": unicorn_color\n",
    "    }\n",
    "    if image_url:\n",
    "        post_data[\"imageUrl\"] = image_url\n",
    "    try:\n",
    "        # Send the post to the API\n",
    "        response = requests.post(PUBLISH_API_ENDPOINT, json=post_data)\n",
    "        \n",
    "        # Check if the request was successful\n",
    "        if response.status_code == 201:\n",
    "            post_id = response.json().get(\"postId\")\n",
    "            return f\"Post published successfully! Post ID: {post_id}\"\n",
    "        else:\n",
    "            return f\"Failed to publish post. Status code: {response.status_code}, Response: {response.text}\"\n",
    "    except:\n",
    "        return \"Error publishing post\""
   ]
  },
  {
   "cell_type": "markdown",
   "id": "3f462bc5",
   "metadata": {},
   "source": [
    "## Configuring the Post Generator Agent\n",
    "\n",
    "Now, let's configure our marketing post generator agent with appropriate instructions and tools."
   ]
  },
  {
   "cell_type": "code",
   "execution_count": null,
   "id": "e9c1c9bd",
   "metadata": {},
   "outputs": [],
   "source": [
    "# Define the agent's instructions\n",
    "INSTRUCTIONS = \"\"\"\n",
    "You are a creative social media manager for Unicorn Rentals, a company that offers unicorns for rent that kids and grown-ups can play with.\n",
    "\n",
    "Your task is to create engaging social media posts for UniTok, our unicorn-themed social media platform. \n",
    "\n",
    "Important information about Unicorn Rentals:\n",
    "- We offer unicorns in various colors: pink, blue, purple, green, yellow, and rainbow (our most popular)\n",
    "- Our new product feature allows customers to pick their favorite color unicorn to rent (default: rainbow)\n",
    "- Our target audience includes families with children, fantasy enthusiasts, and event planners\n",
    "- Our brand voice is magical, playful, and family-friendly\n",
    "\n",
    "When creating posts:\n",
    "- Keep content family-friendly and positive\n",
    "- Highlight the magical experience of spending time with unicorns\n",
    "- Mention the new color selection feature when appropriate\n",
    "- Use emojis sparingly but effectively\n",
    "- Keep posts between 50-200 characters for optimal engagement\n",
    "\n",
    "After generating the post, publish it directly to UniTok using the publish_post tool.\n",
    "\"\"\""
   ]
  },
  {
   "cell_type": "code",
   "execution_count": null,
   "id": "80be56e5",
   "metadata": {},
   "outputs": [],
   "source": [
    "# Initialize the model\n",
    "model = BedrockModel(\n",
    "    model_id=\"us.anthropic.claude-3-7-sonnet-20250219-v1:0\"\n",
    "    # Add any additional model configuration here\n",
    ")\n",
    "\n",
    "# Create the agent\n",
    "post_generator_agent = Agent(\n",
    "    model=model,\n",
    "    system_prompt=INSTRUCTIONS,\n",
    "    tools=[publish_post],\n",
    ")"
   ]
  },
  {
   "cell_type": "markdown",
   "id": "115de027",
   "metadata": {},
   "source": [
    "## Testing the Agent\n",
    "\n",
    "Let's test our agent with various marketing scenarios to see how it performs."
   ]
  },
  {
   "cell_type": "markdown",
   "id": "d070a6a3",
   "metadata": {},
   "source": [
    "### Scenario 1: General Marketing Post"
   ]
  },
  {
   "cell_type": "code",
   "execution_count": null,
   "id": "3aff8761",
   "metadata": {},
   "outputs": [],
   "source": [
    "response = post_generator_agent(\"Create a post promoting our unicorn rental service.\")\n",
    "print(response)"
   ]
  },
  {
   "cell_type": "markdown",
   "id": "59000601",
   "metadata": {},
   "source": [
    "### Scenario 2: Seasonal Promotion\n"
   ]
  },
  {
   "cell_type": "code",
   "execution_count": null,
   "id": "a3c9c929",
   "metadata": {},
   "outputs": [],
   "source": [
    "response = post_generator_agent(\"Create a summer-themed post highlighting our rainbow unicorns.\")\n",
    "print(response)"
   ]
  },
  {
   "cell_type": "markdown",
   "id": "df26bc7f",
   "metadata": {},
   "source": [
    "### Scenario 3: New Feature Announcement"
   ]
  },
  {
   "cell_type": "code",
   "execution_count": null,
   "id": "41ff642d",
   "metadata": {},
   "outputs": [],
   "source": [
    "response = post_generator_agent(\"Create a post announcing our feature to rent unicorns for next children summer camp in the mountains.\")\n",
    "print(response)"
   ]
  },
  {
   "cell_type": "markdown",
   "id": "5a8280db",
   "metadata": {},
   "source": [
    "## Examining the Agent's Messages\n",
    "\n",
    "Let's look at the messages exchanged between us and the agent:"
   ]
  },
  {
   "cell_type": "code",
   "execution_count": null,
   "id": "8d1103b6",
   "metadata": {},
   "outputs": [],
   "source": [
    "for message in post_generator_agent.messages:\n",
    "    print(f\"Role: {message['role']}\")\n",
    "    print(f\"Content: {message['content']}\")\n",
    "    print(\"---\")"
   ]
  },
  {
   "cell_type": "markdown",
   "id": "e62e9f50",
   "metadata": {},
   "source": [
    "## Analyzing Tool Usage\n",
    "\n",
    "Let's examine how the agent used our custom tool:"
   ]
  },
  {
   "cell_type": "code",
   "execution_count": null,
   "id": "bef60b9c",
   "metadata": {},
   "outputs": [],
   "source": [
    "for message in post_generator_agent.messages:\n",
    "    for content_item in message.get('content', []):\n",
    "        if isinstance(content_item, dict) and 'toolUse' in content_item:\n",
    "            tool_use = content_item['toolUse']\n",
    "            print(f\"Tool: {tool_use['name']}\")\n",
    "            print(f\"Input: {tool_use['input']}\")\n",
    "            print(\"---\")"
   ]
  },
  {
   "cell_type": "code",
   "execution_count": null,
   "id": "8f9137ea",
   "metadata": {},
   "outputs": [],
   "source": [
    "print(f\"You can reach the UniTok site at : {UNITOK_URL}\")"
   ]
  },
  {
   "cell_type": "markdown",
   "id": "11b62daf",
   "metadata": {},
   "source": [
    "## Viewing Posts on the UniTok Website\n",
    "\n",
    "Now that we've created and published posts using our agent, let's see them on the UniTok website!\n",
    "\n",
    "To view your posts:\n",
    "1. Use the **UniTokUrl** displayed above. It can also be found in your CloudFormation deployment output from prerequisites. It should look something like: `https://d123abc456def.cloudfront.net`\n",
    "2. Open this URL in your web browser\n",
    "3. You should see the posts that our agent has created and published, displayed in reverse chronological order\n",
    "\n",
    "Each post shows:\n",
    "- The content of the post\n",
    "- The author (which we set to \"Unicorn Rentals\")\n",
    "- The unicorn color (visualized with the appropriate color)\n",
    "- The timestamp when the post was created\n",
    "- The number of likes (starting at 0)\n",
    "\n",
    "This demonstrates the end-to-end flow of our agent: it generates creative content based on our prompts, publishes it to the UniTok API, and then we can see the posts on the UniTok website."
   ]
  },
  {
   "cell_type": "markdown",
   "id": "8a39934b",
   "metadata": {},
   "source": [
    "## Limitations of Synchronous Agents\n",
    "\n",
    "Our current implementation has several limitations:\n",
    "\n",
    "1. **Execution Time Constraints**: The agent must complete its entire task within the execution time limit of the environment.\n",
    "2. **No Persistence**: If the execution is interrupted, all progress is lost.\n",
    "3. **Blocking Execution**: The client must wait for the entire process to complete before receiving a response.\n",
    "4. **Limited Complexity**: Complex workflows requiring external input or long-running processes are difficult to implement.\n",
    "\n",
    "In the next lab, we'll address these limitations by converting our agent to an asynchronous architecture using AWS Lambda and SQS.\n",
    "\n",
    "## Conclusion\n",
    "\n",
    "Congratulations! You've successfully built a synchronous marketing agent for UniTok using the Strands Agents SDK. This agent can generate engaging social media posts based on specific prompts and publish them to the platform.\n",
    "\n",
    "Key takeaways from this lab:\n",
    "- How to configure a Strands Agent with custom instructions\n",
    "- How to implement and use tools with the agent\n",
    "- How to test the agent with various scenarios\n",
    "\n",
    "In Lab 2, we'll transform this synchronous agent into an asynchronous one that can handle tasks more efficiently and reliably."
   ]
  }
 ],
 "metadata": {
  "kernelspec": {
   "display_name": "strands",
   "language": "python",
   "name": "python3"
  },
  "language_info": {
   "codemirror_mode": {
    "name": "ipython",
    "version": 3
   },
   "file_extension": ".py",
   "mimetype": "text/x-python",
   "name": "python",
   "nbconvert_exporter": "python",
   "pygments_lexer": "ipython3",
   "version": "3.11.11"
  }
 },
 "nbformat": 4,
 "nbformat_minor": 5
}
