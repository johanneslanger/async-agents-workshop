{
 "cells": [
  {
   "cell_type": "markdown",
   "metadata": {},
   "source": [
    "# Prerequisites: Setting Up the UniTok Platform\n",
    "\n",
    "This notebook guides you through deploying the UniTok social media platform that we'll use throughout the workshop. Before building our AI agents, we need to set up the infrastructure they'll interact with."
   ]
  },
  {
   "cell_type": "markdown",
   "metadata": {},
   "source": [
    "## High-Level Architecture\n",
    "\n",
    "The UniTok platform consists of several components:\n",
    "\n",
    "![UniTok Architecture](https://via.placeholder.com/800x400?text=UniTok+Architecture+Diagram)\n",
    "\n",
    "### Backend\n",
    "- **AWS Lambda Functions**: Serverless functions that handle API requests\n",
    "  - `publish-post`: Creates new posts in the database\n",
    "  - `get-posts`: Retrieves posts from the database\n",
    "- **Amazon DynamoDB**: NoSQL database for storing social media posts\n",
    "- **Amazon API Gateway**: RESTful API that exposes the Lambda functions\n",
    "\n",
    "### Frontend\n",
    "- **React Application**: Web interface for viewing posts\n",
    "- **Amazon S3**: Hosts the static website files\n",
    "- **Amazon CloudFront**: Content delivery network for the frontend\n",
    "\n",
    "### Integration\n",
    "- Our AI agents will interact with the platform through the API Gateway endpoint"
   ]
  },
  {
   "cell_type": "markdown",
   "metadata": {},
   "source": [
    "## Prerequisites\n",
    "\n",
    "Before proceeding, ensure you have the following installed:\n",
    "\n",
    "1. **AWS CLI**: Configured with appropriate credentials\n",
    "2. **Node.js and npm**: Required for the AWS CDK\n",
    "3. **AWS CDK**: For deploying the infrastructure\n",
    "\n",
    "You can check if these are installed with the following commands:"
   ]
  },
  {
   "cell_type": "code",
   "execution_count": null,
   "metadata": {},
   "outputs": [],
   "source": [
    "!aws --version\n",
    "!node --version\n",
    "!npm --version\n",
    "!cdk --version"
   ]
  },
  {
   "cell_type": "markdown",
   "metadata": {},
   "source": [
    "If any of these commands fail, you'll need to install the missing tools:\n",
    "\n",
    "- [AWS CLI Installation Guide](https://docs.aws.amazon.com/cli/latest/userguide/getting-started-install.html)\n",
    "- [Node.js Installation Guide](https://nodejs.org/en/download/)\n",
    "- [AWS CDK Installation Guide](https://docs.aws.amazon.com/cdk/latest/guide/getting_started.html)"
   ]
  },
  {
   "cell_type": "markdown",
   "metadata": {},
   "source": [
    "## Step 1: Install Dependencies\n",
    "\n",
    "First, let's install the dependencies for the frontend and infrastructure:"
   ]
  },
  {
   "cell_type": "code",
   "execution_count": 1,
   "metadata": {},
   "outputs": [
    {
     "name": "stdout",
     "output_type": "stream",
     "text": [
      "\n",
      "> unitok-frontend@0.1.0 build\n",
      "> react-scripts build\n",
      "\n",
      "\u001b[1G\u001b[0KCreating an optimized production build...\n",
      "\u001b[32mCompiled successfully.\u001b[39m\n",
      "\u001b[32m\u001b[39m\n",
      "File sizes after gzip:\n",
      "\n",
      "  62.99 kB  \u001b[2mbuild/static/js/\u001b[22m\u001b[36mmain.a9f66589.js\u001b[39m\n",
      "  1.79 kB   \u001b[2mbuild/static/js/\u001b[22m\u001b[36m453.55d9860a.chunk.js\u001b[39m\n",
      "  1.22 kB   \u001b[2mbuild/static/css/\u001b[22m\u001b[36mmain.ffc25a6c.css\u001b[39m\n",
      "\n",
      "The project was built assuming it is hosted at \u001b[32m/\u001b[39m.\n",
      "You can control this with the \u001b[32mhomepage\u001b[39m field in your \u001b[36mpackage.json\u001b[39m.\n",
      "\n",
      "The \u001b[36mbuild\u001b[39m folder is ready to be deployed.\n",
      "You may serve it with a static server:\n",
      "\n",
      "  \u001b[36mnpm\u001b[39m install -g serve\n",
      "  \u001b[36mserve\u001b[39m -s build\n",
      "\n",
      "Find out more about deployment here:\n",
      "\n",
      "  \u001b[33mhttps://cra.link/deployment\u001b[39m\n",
      "\n",
      "\u001b[1G\u001b[0K⠙\u001b[1G\u001b[0K"
     ]
    }
   ],
   "source": [
    "# Navigate to the frontend directory and install dependencies\n",
    "!cd ../../unitok/frontend && npm install --silent\n",
    "# Navigate to the infrastructure directory and install dependencies\n",
    "!cd ../../unitok/infrastructure && npm install --silent\n",
    "# Build the frontend\n",
    "!cd ../../unitok/frontend && npm run build"
   ]
  },
  {
   "cell_type": "markdown",
   "metadata": {},
   "source": [
    "## Step 4: Deploy the Infrastructure\n",
    "\n",
    "Now, let's deploy the UniTok infrastructure to AWS:"
   ]
  },
  {
   "cell_type": "code",
   "execution_count": null,
   "metadata": {},
   "outputs": [],
   "source": [
    "# Deploy the infrastructure\n",
    "!cd ../../unitok/infrastructure && cdk bootstrap && cdk deploy"
   ]
  },
  {
   "cell_type": "markdown",
   "metadata": {},
   "source": [
    "## Step 5: Capture the Outputs\n",
    "\n",
    "After deployment completes, you'll see several outputs in the terminal. The two most important ones are:\n",
    "\n",
    "1. **ApiEndpoint**: The URL of the API Gateway endpoint\n",
    "2. **UniTokUrl**: The URL of the CloudFront distribution where you can access the website\n",
    "\n",
    "Copy these values and store them below for reference throughout the workshop:"
   ]
  },
  {
   "cell_type": "code",
   "execution_count": null,
   "metadata": {},
   "outputs": [],
   "source": [
    "# Store your API endpoint URL here\n",
    "API_ENDPOINT = \"https://your-api-endpoint.execute-api.region.amazonaws.com/prod/posts\"\n",
    "\n",
    "# Store your UniTok website URL here\n",
    "UNITOK_WEBSITE = \"https://your-cloudfront-distribution.cloudfront.net\"\n",
    "\n",
    "print(f\"API Endpoint: {API_ENDPOINT}\")\n",
    "print(f\"UniTok Website: {UNITOK_WEBSITE}\")"
   ]
  },
  {
   "cell_type": "markdown",
   "metadata": {},
   "source": [
    "## Step 6: Verify the Deployment\n",
    "\n",
    "Let's verify that the UniTok platform is working correctly by making a test API call to create a post:"
   ]
  },
  {
   "cell_type": "code",
   "execution_count": null,
   "metadata": {},
   "outputs": [],
   "source": [
    "import requests\n",
    "import json\n",
    "\n",
    "# Create a test post\n",
    "test_post = {\n",
    "    \"content\": \"This is a test post from the prerequisites notebook!\",\n",
    "    \"author\": \"Workshop Participant\",\n",
    "    \"unicornColor\": \"blue\"\n",
    "}\n",
    "\n",
    "# Send the post to the API\n",
    "response = requests.post(API_ENDPOINT, json=test_post)\n",
    "\n",
    "# Check if the request was successful\n",
    "if response.status_code == 201:\n",
    "    print(\"✅ Post created successfully!\")\n",
    "    print(f\"Post ID: {response.json().get('postId')}\")\n",
    "else:\n",
    "    print(f\"❌ Failed to create post. Status code: {response.status_code}\")\n",
    "    print(f\"Response: {response.text}\")"
   ]
  },
  {
   "cell_type": "markdown",
   "metadata": {},
   "source": [
    "## Step 7: View the UniTok Website\n",
    "\n",
    "Now, let's open the UniTok website to see our test post:"
   ]
  },
  {
   "cell_type": "code",
   "execution_count": null,
   "metadata": {},
   "outputs": [],
   "source": [
    "import webbrowser\n",
    "\n",
    "# Open the UniTok website in a new browser tab\n",
    "webbrowser.open(UNITOK_WEBSITE)"
   ]
  },
  {
   "cell_type": "markdown",
   "metadata": {},
   "source": [
    "You should now see the UniTok website with your test post displayed in the feed. If you don't see the post, try refreshing the page.\n",
    "\n",
    "![UniTok Website Screenshot](https://via.placeholder.com/800x400?text=UniTok+Website+Screenshot)"
   ]
  },
  {
   "cell_type": "markdown",
   "metadata": {},
   "source": [
    "## Conclusion\n",
    "\n",
    "Congratulations! You've successfully deployed the UniTok platform that we'll use throughout the workshop. You now have:\n",
    "\n",
    "1. A working backend with API endpoints for creating and retrieving posts\n",
    "2. A frontend website where you can view posts\n",
    "3. The necessary infrastructure for our AI agents to interact with\n",
    "\n",
    "In the next notebook, we'll build our first AI agent that can generate and publish posts to the UniTok platform.\n",
    "\n",
    "**Next Step**: [Module 1: Building Your First Agent](module1/post_generator_agent.ipynb)"
   ]
  }
 ],
 "metadata": {
  "kernelspec": {
   "display_name": "async-agents-workshop",
   "language": "python",
   "name": "python3"
  },
  "language_info": {
   "codemirror_mode": {
    "name": "ipython",
    "version": 3
   },
   "file_extension": ".py",
   "mimetype": "text/x-python",
   "name": "python",
   "nbconvert_exporter": "python",
   "pygments_lexer": "ipython3",
   "version": "3.11.3"
  }
 },
 "nbformat": 4,
 "nbformat_minor": 4
}
