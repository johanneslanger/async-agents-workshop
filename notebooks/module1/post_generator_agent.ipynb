{
 "cells": [
  {
   "cell_type": "markdown",
   "metadata": {},
   "source": [
    "# Module 1: Building Your First Agent\n",
    "\n",
    "## Creating a UniTok Social Media Post Generator\n",
    "\n",
    "In this notebook, we'll build an agent that can generate social media posts for Unicorn Rentals and publish them to UniTok. We'll use the Strands SDK to create our agent and add a custom tool for publishing posts to the UniTok API."
   ]
  },
  {
   "cell_type": "markdown",
   "metadata": {},
   "source": [
    "## Setup and Prerequisites\n",
    "\n",
    "First, let's install the required packages:"
   ]
  },
  {
   "cell_type": "code",
   "execution_count": null,
   "metadata": {},
   "outputs": [],
   "source": [
    "!pip install --upgrade strands-agents requests boto3"
   ]
  },
  {
   "cell_type": "markdown",
   "metadata": {},
   "source": [
    "Now let's import the necessary libraries:"
   ]
  },
  {
   "cell_type": "code",
   "execution_count": 1,
   "metadata": {},
   "outputs": [],
   "source": [
    "import json\n",
    "import requests\n",
    "from strands import Agent, tool\n",
    "from strands.models import BedrockModel"
   ]
  },
  {
   "cell_type": "markdown",
   "metadata": {},
   "source": [
    "## Creating a Custom Tool for Publishing Posts\n",
    "\n",
    "Let's create a custom tool that will allow our agent to publish posts to the UniTok API:"
   ]
  },
  {
   "cell_type": "code",
   "execution_count": 2,
   "metadata": {},
   "outputs": [],
   "source": [
    "# Define the API endpoint\n",
    "# In a real deployment, this would be the actual API Gateway URL from CDK output\n",
    "API_ENDPOINT = \"https://08pzccde2k.execute-api.us-east-1.amazonaws.com/prod/posts\"  # Replace with your actual API endpoint\n",
    "# Note: The backend is implemented using Python Lambda functions\n",
    "\n",
    "@tool\n",
    "def publish_post(content: str, author: str = \"Unicorn Rentals\", unicorn_color: str = \"rainbow\", image_url: str = None) -> str:\n",
    "    \"\"\"\n",
    "    Publish a post to the UniTok social media platform.\n",
    "    \n",
    "    Args:\n",
    "        content (str): The text content of the post.\n",
    "        author (str, optional): The author of the post. Defaults to \"Unicorn Rentals\".\n",
    "        unicorn_color (str, optional): The color of the unicorn. Choose from: pink, blue, purple, green, yellow, or rainbow. Defaults to \"rainbow\".\n",
    "        image_url (str, optional): URL to an image to include with the post. Defaults to None.\n",
    "        \n",
    "    Returns:\n",
    "        str: A message indicating the post was published successfully, or an error message.\n",
    "    \"\"\"\n",
    "    try:\n",
    "        # Prepare the post data\n",
    "        post_data = {\n",
    "            \"content\": content,\n",
    "            \"author\": author,\n",
    "            \"unicornColor\": unicorn_color,\n",
    "        }\n",
    "        \n",
    "        if image_url:\n",
    "            post_data[\"imageUrl\"] = image_url\n",
    "            \n",
    "        # Send the post to the API\n",
    "        response = requests.post(API_ENDPOINT, json=post_data)\n",
    "        \n",
    "        # Check if the request was successful\n",
    "        if response.status_code == 201:\n",
    "            post_id = response.json().get(\"postId\")\n",
    "            return f\"Post published successfully! Post ID: {post_id}\"\n",
    "        else:\n",
    "            return f\"Failed to publish post. Status code: {response.status_code}, Response: {response.text}\"\n",
    "            \n",
    "    except Exception as e:\n",
    "        return f\"Error publishing post: {str(e)}\"\n",
    "\n",
    "# Test the tool (commented out for now)\n",
    "#result = publish_post(\"Testing our UniTok API!\", unicorn_color=\"pink\")\n",
    "# print(result)"
   ]
  },
  {
   "cell_type": "markdown",
   "metadata": {},
   "source": [
    "## Creating the Agent\n",
    "\n",
    "Now let's create our agent using the Strands SDK. We'll use Claude 3.7 Sonnet from Amazon Bedrock as our underlying model."
   ]
  },
  {
   "cell_type": "code",
   "execution_count": 3,
   "metadata": {},
   "outputs": [],
   "source": [
    "# Define the system prompt for our agent\n",
    "system_prompt = \"\"\"\n",
    "You are a creative social media manager for Unicorn Rentals, a company that offers unicorns for rent that kids and grown-ups can play with.\n",
    "\n",
    "Your task is to create engaging social media posts for UniTok, our unicorn-themed social media platform. \n",
    "You can publish posts directly to UniTok using the publish_post tool.\n",
    "\n",
    "Important information about Unicorn Rentals:\n",
    "- We offer unicorns in various colors: pink, blue, purple, green, yellow, and rainbow (our most popular)\n",
    "- Our new product feature allows customers to pick their favorite color unicorn to rent\n",
    "- Our target audience includes families with children, fantasy enthusiasts, and event planners\n",
    "- Our brand voice is magical, playful, and family-friendly\n",
    "\n",
    "When creating posts:\n",
    "- Keep content family-friendly and positive\n",
    "- Highlight the magical experience of spending time with unicorns\n",
    "- Mention the new color selection feature when appropriate\n",
    "- Use emojis sparingly but effectively\n",
    "- Keep posts between 50-200 characters for optimal engagement\n",
    "\"\"\"\n",
    "\n",
    "# Initialize the model\n",
    "model = BedrockModel(\n",
    "    model_id=\"us.anthropic.claude-3-7-sonnet-20250219-v1:0\",\n",
    "    # Add any additional model configuration here\n",
    ")\n",
    "\n",
    "# Create the agent\n",
    "post_generator_agent = Agent(\n",
    "    model=model,\n",
    "    system_prompt=system_prompt,\n",
    "    tools=[publish_post],\n",
    ")"
   ]
  },
  {
   "cell_type": "markdown",
   "metadata": {},
   "source": [
    "## Testing the Agent\n",
    "\n",
    "Let's test our agent by asking it to create and publish a post about the new color selection feature:"
   ]
  },
  {
   "cell_type": "code",
   "execution_count": null,
   "metadata": {},
   "outputs": [
    {
     "name": "stdout",
     "output_type": "stream",
     "text": [
      "I'd be happy to create a post announcing Unicorn Rentals' new color selection feature! Let me craft an engaging announcement for UniTok.\n",
      "Tool #1: publish_post\n",
      "The post has been successfully published to UniTok! I've highlighted our exciting new color selection feature, mentioning all the available colors while encouraging engagement by asking which color our audience prefers. I kept the tone playful and magical in line with our brand voice, and included appropriate hashtags to increase visibility. The rainbow unicorn color was used as it's our most popular option.\n",
      "\n",
      "Would you like me to create any additional posts focusing on specific benefits of this new feature or perhaps showcasing individual unicorn colors?The post has been successfully published to UniTok! I've highlighted our exciting new color selection feature, mentioning all the available colors while encouraging engagement by asking which color our audience prefers. I kept the tone playful and magical in line with our brand voice, and included appropriate hashtags to increase visibility. The rainbow unicorn color was used as it's our most popular option.\n",
      "\n",
      "Would you like me to create any additional posts focusing on specific benefits of this new feature or perhaps showcasing individual unicorn colors?\n",
      "\n"
     ]
    }
   ],
   "source": [
    "response = post_generator_agent(\"Create a post announcing our new feature that lets customers pick their favorite unicorn color.\")\n"
   ]
  },
  {
   "cell_type": "markdown",
   "metadata": {},
   "source": [
    "Let's try another example, asking for a post about a specific unicorn color:"
   ]
  },
  {
   "cell_type": "code",
   "execution_count": null,
   "metadata": {},
   "outputs": [],
   "source": [
    "response = post_generator_agent(\"Create a post highlighting our pink unicorns and what makes them special.\")\n",
    "print(response.content)"
   ]
  },
  {
   "cell_type": "markdown",
   "metadata": {},
   "source": [
    "## Examining the Agent's Messages\n",
    "\n",
    "Let's look at the messages exchanged between us and the agent:"
   ]
  },
  {
   "cell_type": "code",
   "execution_count": null,
   "metadata": {},
   "outputs": [],
   "source": [
    "for message in post_generator_agent.messages:\n",
    "    print(f\"Role: {message['role']}\")\n",
    "    print(f\"Content: {message['content']}\")\n",
    "    print(\"---\")"
   ]
  },
  {
   "cell_type": "markdown",
   "metadata": {},
   "source": [
    "## Analyzing Tool Usage\n",
    "\n",
    "Let's examine how the agent used our custom tool:"
   ]
  },
  {
   "cell_type": "code",
   "execution_count": null,
   "metadata": {},
   "outputs": [],
   "source": [
    "for message in post_generator_agent.messages:\n",
    "    for content_item in message.get('content', []):\n",
    "        if isinstance(content_item, dict) and 'toolUse' in content_item:\n",
    "            tool_use = content_item['toolUse']\n",
    "            print(f\"Tool: {tool_use['name']}\")\n",
    "            print(f\"Input: {tool_use['input']}\")\n",
    "            print(\"---\")"
   ]
  },
  {
   "cell_type": "markdown",
   "metadata": {},
   "source": [
    "## Viewing Posts on the UniTok Website\n",
    "\n",
    "Now that we've created and published posts using our agent, let's see them on the UniTok website!\n",
    "\n",
    "To view your posts:\n",
    "1. Find the **UniTokUrl** from your CDK deployment output. It should look something like: `https://d123abc456def.cloudfront.net`\n",
    "2. Open this URL in your web browser\n",
    "3. You should see the posts that our agent has created and published, displayed in reverse chronological order\n",
    "\n",
    "Each post shows:\n",
    "- The content of the post\n",
    "- The author (which we set to \"Unicorn Rentals\")\n",
    "- The unicorn color (visualized with the appropriate color)\n",
    "- The timestamp when the post was created\n",
    "- The number of likes (starting at 0)\n",
    "\n",
    "This demonstrates the end-to-end flow of our agent: it generates creative content based on our prompts, publishes it to the UniTok API, and then we can see the posts on the UniTok website."
   ]
  },
  {
   "cell_type": "markdown",
   "metadata": {},
   "source": [
    "## Conclusion\n",
    "\n",
    "In this notebook, we've successfully created a Strands SDK agent that can generate social media posts for Unicorn Rentals and publish them to UniTok. We've learned how to:\n",
    "\n",
    "1. Create a custom tool using the `@tool` decorator\n",
    "2. Initialize a Strands agent with a BedrockModel\n",
    "3. Define a system prompt to guide the agent's behavior\n",
    "4. Interact with the agent to generate and publish posts\n",
    "5. View the published posts on the UniTok website\n",
    "6. Analyze the agent's messages and tool usage\n",
    "\n",
    "This agent can now be used by the Unicorn Rentals marketing team to quickly create and publish engaging social media content about their unicorn rental service and new color selection feature."
   ]
  }
 ],
 "metadata": {
  "kernelspec": {
   "display_name": "async-agents-workshop",
   "language": "python",
   "name": "python3"
  },
  "language_info": {
   "codemirror_mode": {
    "name": "ipython",
    "version": 3
   },
   "file_extension": ".py",
   "mimetype": "text/x-python",
   "name": "python",
   "nbconvert_exporter": "python",
   "pygments_lexer": "ipython3",
   "version": "3.11.3"
  }
 },
 "nbformat": 4,
 "nbformat_minor": 4
}
