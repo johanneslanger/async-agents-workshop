{
 "cells": [
  {
   "cell_type": "markdown",
   "metadata": {},
   "source": [
    "# Module 1: Building Your First Agent\n",
    "\n",
    "## Creating a UniTok Social Media Post Generator\n",
    "\n",
    "In this notebook, we'll build an agent that can generate social media posts for Unicorn Rentals and publish them to UniTok. We'll use the Strands SDK to create our agent and add a custom tool for publishing posts to the UniTok API."
   ]
  },
  {
   "cell_type": "markdown",
   "metadata": {},
   "source": [
    "## Setup and Prerequisites\n",
    "\n",
    "First, let's install the required packages:"
   ]
  },
  {
   "cell_type": "code",
   "execution_count": 8,
   "metadata": {},
   "outputs": [
    {
     "name": "stdout",
     "output_type": "stream",
     "text": [
      "Looking in indexes: https://pypi.org/simple, https://plugin.us-east-1.prod.workshops.aws\n",
      "Requirement already satisfied: strands-agents in /Users/jlanger/.pyenv/versions/3.11.3/envs/async-agents-workshop/lib/python3.11/site-packages (0.1.7)\n",
      "Requirement already satisfied: requests in /Users/jlanger/.pyenv/versions/3.11.3/envs/async-agents-workshop/lib/python3.11/site-packages (2.32.4)\n",
      "Requirement already satisfied: boto3 in /Users/jlanger/.pyenv/versions/3.11.3/envs/async-agents-workshop/lib/python3.11/site-packages (1.26.0)\n",
      "Collecting boto3\n",
      "  Downloading boto3-1.38.36-py3-none-any.whl (139 kB)\n",
      "\u001b[2K     \u001b[38;2;114;156;31m━━━━━━━━━━━━━━━━━━━━━━━━━━━━━━━━━━━━━━━\u001b[0m \u001b[32m139.9/139.9 kB\u001b[0m \u001b[31m3.2 MB/s\u001b[0m eta \u001b[36m0:00:00\u001b[0m MB/s\u001b[0m eta \u001b[36m0:00:01\u001b[0m\n",
      "\u001b[?25hRequirement already satisfied: botocore<2.0.0,>=1.29.0 in /Users/jlanger/.pyenv/versions/3.11.3/envs/async-agents-workshop/lib/python3.11/site-packages (from strands-agents) (1.29.165)\n",
      "Requirement already satisfied: docstring-parser<0.16.0,>=0.15 in /Users/jlanger/.pyenv/versions/3.11.3/envs/async-agents-workshop/lib/python3.11/site-packages (from strands-agents) (0.15)\n",
      "Requirement already satisfied: mcp<2.0.0,>=1.8.0 in /Users/jlanger/.pyenv/versions/3.11.3/envs/async-agents-workshop/lib/python3.11/site-packages (from strands-agents) (1.9.3)\n",
      "Requirement already satisfied: opentelemetry-api<2.0.0,>=1.30.0 in /Users/jlanger/.pyenv/versions/3.11.3/envs/async-agents-workshop/lib/python3.11/site-packages (from strands-agents) (1.34.1)\n",
      "Requirement already satisfied: opentelemetry-exporter-otlp-proto-http<2.0.0,>=1.30.0 in /Users/jlanger/.pyenv/versions/3.11.3/envs/async-agents-workshop/lib/python3.11/site-packages (from strands-agents) (1.34.1)\n",
      "Requirement already satisfied: opentelemetry-sdk<2.0.0,>=1.30.0 in /Users/jlanger/.pyenv/versions/3.11.3/envs/async-agents-workshop/lib/python3.11/site-packages (from strands-agents) (1.34.1)\n",
      "Requirement already satisfied: pydantic<3.0.0,>=2.0.0 in /Users/jlanger/.pyenv/versions/3.11.3/envs/async-agents-workshop/lib/python3.11/site-packages (from strands-agents) (2.11.5)\n",
      "Requirement already satisfied: typing-extensions<5.0.0,>=4.13.2 in /Users/jlanger/.pyenv/versions/3.11.3/envs/async-agents-workshop/lib/python3.11/site-packages (from strands-agents) (4.14.0)\n",
      "Requirement already satisfied: watchdog<7.0.0,>=6.0.0 in /Users/jlanger/.pyenv/versions/3.11.3/envs/async-agents-workshop/lib/python3.11/site-packages (from strands-agents) (6.0.0)\n",
      "Requirement already satisfied: charset_normalizer<4,>=2 in /Users/jlanger/.pyenv/versions/3.11.3/envs/async-agents-workshop/lib/python3.11/site-packages (from requests) (3.4.2)\n",
      "Requirement already satisfied: idna<4,>=2.5 in /Users/jlanger/.pyenv/versions/3.11.3/envs/async-agents-workshop/lib/python3.11/site-packages (from requests) (3.10)\n",
      "Requirement already satisfied: urllib3<3,>=1.21.1 in /Users/jlanger/.pyenv/versions/3.11.3/envs/async-agents-workshop/lib/python3.11/site-packages (from requests) (1.26.20)\n",
      "Requirement already satisfied: certifi>=2017.4.17 in /Users/jlanger/.pyenv/versions/3.11.3/envs/async-agents-workshop/lib/python3.11/site-packages (from requests) (2025.4.26)\n",
      "Collecting botocore<2.0.0,>=1.29.0\n",
      "  Downloading botocore-1.38.36-py3-none-any.whl (13.6 MB)\n",
      "\u001b[2K     \u001b[38;2;114;156;31m━━━━━━━━━━━━━━━━━━━━━━━━━━━━━━━━━━━━━━━━\u001b[0m \u001b[32m13.6/13.6 MB\u001b[0m \u001b[31m3.7 MB/s\u001b[0m eta \u001b[36m0:00:00\u001b[0mm eta \u001b[36m0:00:01\u001b[0m[36m0:00:01\u001b[0m\n",
      "\u001b[?25hRequirement already satisfied: jmespath<2.0.0,>=0.7.1 in /Users/jlanger/.pyenv/versions/3.11.3/envs/async-agents-workshop/lib/python3.11/site-packages (from boto3) (1.0.1)\n",
      "Collecting s3transfer<0.14.0,>=0.13.0\n",
      "  Using cached s3transfer-0.13.0-py3-none-any.whl (85 kB)\n",
      "Requirement already satisfied: python-dateutil<3.0.0,>=2.1 in /Users/jlanger/.pyenv/versions/3.11.3/envs/async-agents-workshop/lib/python3.11/site-packages (from botocore<2.0.0,>=1.29.0->strands-agents) (2.9.0.post0)\n",
      "Requirement already satisfied: anyio>=4.5 in /Users/jlanger/.pyenv/versions/3.11.3/envs/async-agents-workshop/lib/python3.11/site-packages (from mcp<2.0.0,>=1.8.0->strands-agents) (4.9.0)\n",
      "Requirement already satisfied: httpx-sse>=0.4 in /Users/jlanger/.pyenv/versions/3.11.3/envs/async-agents-workshop/lib/python3.11/site-packages (from mcp<2.0.0,>=1.8.0->strands-agents) (0.4.0)\n",
      "Requirement already satisfied: httpx>=0.27 in /Users/jlanger/.pyenv/versions/3.11.3/envs/async-agents-workshop/lib/python3.11/site-packages (from mcp<2.0.0,>=1.8.0->strands-agents) (0.28.1)\n",
      "Requirement already satisfied: pydantic-settings>=2.5.2 in /Users/jlanger/.pyenv/versions/3.11.3/envs/async-agents-workshop/lib/python3.11/site-packages (from mcp<2.0.0,>=1.8.0->strands-agents) (2.9.1)\n",
      "Requirement already satisfied: python-multipart>=0.0.9 in /Users/jlanger/.pyenv/versions/3.11.3/envs/async-agents-workshop/lib/python3.11/site-packages (from mcp<2.0.0,>=1.8.0->strands-agents) (0.0.20)\n",
      "Requirement already satisfied: sse-starlette>=1.6.1 in /Users/jlanger/.pyenv/versions/3.11.3/envs/async-agents-workshop/lib/python3.11/site-packages (from mcp<2.0.0,>=1.8.0->strands-agents) (2.3.6)\n",
      "Requirement already satisfied: starlette>=0.27 in /Users/jlanger/.pyenv/versions/3.11.3/envs/async-agents-workshop/lib/python3.11/site-packages (from mcp<2.0.0,>=1.8.0->strands-agents) (0.47.0)\n",
      "Requirement already satisfied: uvicorn>=0.23.1 in /Users/jlanger/.pyenv/versions/3.11.3/envs/async-agents-workshop/lib/python3.11/site-packages (from mcp<2.0.0,>=1.8.0->strands-agents) (0.34.3)\n",
      "Requirement already satisfied: importlib-metadata<8.8.0,>=6.0 in /Users/jlanger/.pyenv/versions/3.11.3/envs/async-agents-workshop/lib/python3.11/site-packages (from opentelemetry-api<2.0.0,>=1.30.0->strands-agents) (8.7.0)\n",
      "Requirement already satisfied: googleapis-common-protos~=1.52 in /Users/jlanger/.pyenv/versions/3.11.3/envs/async-agents-workshop/lib/python3.11/site-packages (from opentelemetry-exporter-otlp-proto-http<2.0.0,>=1.30.0->strands-agents) (1.70.0)\n",
      "Requirement already satisfied: opentelemetry-exporter-otlp-proto-common==1.34.1 in /Users/jlanger/.pyenv/versions/3.11.3/envs/async-agents-workshop/lib/python3.11/site-packages (from opentelemetry-exporter-otlp-proto-http<2.0.0,>=1.30.0->strands-agents) (1.34.1)\n",
      "Requirement already satisfied: opentelemetry-proto==1.34.1 in /Users/jlanger/.pyenv/versions/3.11.3/envs/async-agents-workshop/lib/python3.11/site-packages (from opentelemetry-exporter-otlp-proto-http<2.0.0,>=1.30.0->strands-agents) (1.34.1)\n",
      "Requirement already satisfied: protobuf<6.0,>=5.0 in /Users/jlanger/.pyenv/versions/3.11.3/envs/async-agents-workshop/lib/python3.11/site-packages (from opentelemetry-proto==1.34.1->opentelemetry-exporter-otlp-proto-http<2.0.0,>=1.30.0->strands-agents) (5.29.5)\n",
      "Requirement already satisfied: opentelemetry-semantic-conventions==0.55b1 in /Users/jlanger/.pyenv/versions/3.11.3/envs/async-agents-workshop/lib/python3.11/site-packages (from opentelemetry-sdk<2.0.0,>=1.30.0->strands-agents) (0.55b1)\n",
      "Requirement already satisfied: annotated-types>=0.6.0 in /Users/jlanger/.pyenv/versions/3.11.3/envs/async-agents-workshop/lib/python3.11/site-packages (from pydantic<3.0.0,>=2.0.0->strands-agents) (0.7.0)\n",
      "Requirement already satisfied: pydantic-core==2.33.2 in /Users/jlanger/.pyenv/versions/3.11.3/envs/async-agents-workshop/lib/python3.11/site-packages (from pydantic<3.0.0,>=2.0.0->strands-agents) (2.33.2)\n",
      "Requirement already satisfied: typing-inspection>=0.4.0 in /Users/jlanger/.pyenv/versions/3.11.3/envs/async-agents-workshop/lib/python3.11/site-packages (from pydantic<3.0.0,>=2.0.0->strands-agents) (0.4.1)\n",
      "Requirement already satisfied: sniffio>=1.1 in /Users/jlanger/.pyenv/versions/3.11.3/envs/async-agents-workshop/lib/python3.11/site-packages (from anyio>=4.5->mcp<2.0.0,>=1.8.0->strands-agents) (1.3.1)\n",
      "Requirement already satisfied: httpcore==1.* in /Users/jlanger/.pyenv/versions/3.11.3/envs/async-agents-workshop/lib/python3.11/site-packages (from httpx>=0.27->mcp<2.0.0,>=1.8.0->strands-agents) (1.0.9)\n",
      "Requirement already satisfied: h11>=0.16 in /Users/jlanger/.pyenv/versions/3.11.3/envs/async-agents-workshop/lib/python3.11/site-packages (from httpcore==1.*->httpx>=0.27->mcp<2.0.0,>=1.8.0->strands-agents) (0.16.0)\n",
      "Requirement already satisfied: zipp>=3.20 in /Users/jlanger/.pyenv/versions/3.11.3/envs/async-agents-workshop/lib/python3.11/site-packages (from importlib-metadata<8.8.0,>=6.0->opentelemetry-api<2.0.0,>=1.30.0->strands-agents) (3.23.0)\n",
      "Requirement already satisfied: python-dotenv>=0.21.0 in /Users/jlanger/.pyenv/versions/3.11.3/envs/async-agents-workshop/lib/python3.11/site-packages (from pydantic-settings>=2.5.2->mcp<2.0.0,>=1.8.0->strands-agents) (1.1.0)\n",
      "Requirement already satisfied: six>=1.5 in /Users/jlanger/.pyenv/versions/3.11.3/envs/async-agents-workshop/lib/python3.11/site-packages (from python-dateutil<3.0.0,>=2.1->botocore<2.0.0,>=1.29.0->strands-agents) (1.17.0)\n",
      "Requirement already satisfied: click>=7.0 in /Users/jlanger/.pyenv/versions/3.11.3/envs/async-agents-workshop/lib/python3.11/site-packages (from uvicorn>=0.23.1->mcp<2.0.0,>=1.8.0->strands-agents) (8.2.1)\n",
      "Installing collected packages: botocore, s3transfer, boto3\n",
      "  Attempting uninstall: botocore\n",
      "    Found existing installation: botocore 1.29.165\n",
      "    Uninstalling botocore-1.29.165:\n",
      "      Successfully uninstalled botocore-1.29.165\n",
      "  Attempting uninstall: s3transfer\n",
      "    Found existing installation: s3transfer 0.6.2\n",
      "    Uninstalling s3transfer-0.6.2:\n",
      "      Successfully uninstalled s3transfer-0.6.2\n",
      "  Attempting uninstall: boto3\n",
      "    Found existing installation: boto3 1.26.0\n",
      "    Uninstalling boto3-1.26.0:\n",
      "      Successfully uninstalled boto3-1.26.0\n",
      "Successfully installed boto3-1.38.36 botocore-1.38.36 s3transfer-0.13.0\n",
      "\n",
      "\u001b[1m[\u001b[0m\u001b[34;49mnotice\u001b[0m\u001b[1;39;49m]\u001b[0m\u001b[39;49m A new release of pip available: \u001b[0m\u001b[31;49m22.3.1\u001b[0m\u001b[39;49m -> \u001b[0m\u001b[32;49m25.1.1\u001b[0m\n",
      "\u001b[1m[\u001b[0m\u001b[34;49mnotice\u001b[0m\u001b[1;39;49m]\u001b[0m\u001b[39;49m To update, run: \u001b[0m\u001b[32;49mpip install --upgrade pip\u001b[0m\n"
     ]
    }
   ],
   "source": [
    "!pip install --upgrade strands-agents requests boto3"
   ]
  },
  {
   "cell_type": "markdown",
   "metadata": {},
   "source": [
    "Now let's import the necessary libraries:"
   ]
  },
  {
   "cell_type": "code",
   "execution_count": 2,
   "metadata": {},
   "outputs": [],
   "source": [
    "import json\n",
    "import requests\n",
    "from strands import Agent, tool\n",
    "from strands.models import BedrockModel"
   ]
  },
  {
   "cell_type": "markdown",
   "metadata": {},
   "source": [
    "## Creating a Custom Tool for Publishing Posts\n",
    "\n",
    "Let's create a custom tool that will allow our agent to publish posts to the UniTok API:"
   ]
  },
  {
   "cell_type": "code",
   "execution_count": null,
   "metadata": {},
   "outputs": [],
   "source": [
    "# Define the API endpoint\n",
    "# In a real deployment, this would be the actual API Gateway URL from CDK output\n",
    "API_ENDPOINT = \"https://08pzccde2k.execute-api.us-east-1.amazonaws.com/prod/posts\"  # Replace with your actual API endpoint\n",
    "# Note: The backend is implemented using Python Lambda functions\n",
    "\n",
    "@tool\n",
    "def publish_post(content: str, author: str = \"Unicorn Rentals\", unicorn_color: str = \"rainbow\", image_url: str = None) -> str:\n",
    "    \"\"\"\n",
    "    Publish a post to the UniTok social media platform.\n",
    "    \n",
    "    Args:\n",
    "        content (str): The text content of the post.\n",
    "        author (str, optional): The author of the post. Defaults to \"Unicorn Rentals\".\n",
    "        unicorn_color (str, optional): The color of the unicorn. Choose from: pink, blue, purple, green, yellow, or rainbow. Defaults to \"rainbow\".\n",
    "        image_url (str, optional): URL to an image to include with the post. Defaults to None.\n",
    "        \n",
    "    Returns:\n",
    "        str: A message indicating the post was published successfully, or an error message.\n",
    "    \"\"\"\n",
    "    try:\n",
    "        # Prepare the post data\n",
    "        post_data = {\n",
    "            \"content\": content,\n",
    "            \"author\": author,\n",
    "            \"unicornColor\": unicorn_color,\n",
    "        }\n",
    "        \n",
    "        if image_url:\n",
    "            post_data[\"imageUrl\"] = image_url\n",
    "            \n",
    "        # Send the post to the API\n",
    "        response = requests.post(API_ENDPOINT, json=post_data)\n",
    "        \n",
    "        # Check if the request was successful\n",
    "        if response.status_code == 201:\n",
    "            post_id = response.json().get(\"postId\")\n",
    "            return f\"Post published successfully! Post ID: {post_id}\"\n",
    "        else:\n",
    "            return f\"Failed to publish post. Status code: {response.status_code}, Response: {response.text}\"\n",
    "            \n",
    "    except Exception as e:\n",
    "        return f\"Error publishing post: {str(e)}\"\n",
    "\n",
    "# Test the tool (commented out for now)\n",
    "#result = publish_post(\"Testing our UniTok API!\", unicorn_color=\"pink\")\n",
    "# print(result)"
   ]
  },
  {
   "cell_type": "markdown",
   "metadata": {},
   "source": [
    "## Creating the Agent\n",
    "\n",
    "Now let's create our agent using the Strands SDK. We'll use Claude 3.7 Sonnet from Amazon Bedrock as our underlying model."
   ]
  },
  {
   "cell_type": "code",
   "execution_count": 10,
   "metadata": {},
   "outputs": [],
   "source": [
    "# Define the system prompt for our agent\n",
    "system_prompt = \"\"\"\n",
    "You are a creative social media manager for Unicorn Rentals, a company that offers unicorns for rent that kids and grown-ups can play with.\n",
    "\n",
    "Your task is to create engaging social media posts for UniTok, our unicorn-themed social media platform. \n",
    "You can publish posts directly to UniTok using the publish_post tool.\n",
    "\n",
    "Important information about Unicorn Rentals:\n",
    "- We offer unicorns in various colors: pink, blue, purple, green, yellow, and rainbow (our most popular)\n",
    "- Our new product feature allows customers to pick their favorite color unicorn to rent\n",
    "- Our target audience includes families with children, fantasy enthusiasts, and event planners\n",
    "- Our brand voice is magical, playful, and family-friendly\n",
    "\n",
    "When creating posts:\n",
    "- Keep content family-friendly and positive\n",
    "- Highlight the magical experience of spending time with unicorns\n",
    "- Mention the new color selection feature when appropriate\n",
    "- Use emojis sparingly but effectively\n",
    "- Keep posts between 50-200 characters for optimal engagement\n",
    "\"\"\"\n",
    "\n",
    "# Initialize the model\n",
    "model = BedrockModel(\n",
    "    model_id=\"us.anthropic.claude-3-7-sonnet-20250219-v1:0\",\n",
    "    # Add any additional model configuration here\n",
    ")\n",
    "\n",
    "# Create the agent\n",
    "post_generator_agent = Agent(\n",
    "    model=model,\n",
    "    system_prompt=system_prompt,\n",
    "    tools=[publish_post],\n",
    ")"
   ]
  },
  {
   "cell_type": "markdown",
   "metadata": {},
   "source": [
    "## Testing the Agent\n",
    "\n",
    "Let's test our agent by asking it to create and publish a post about the new color selection feature:"
   ]
  },
  {
   "cell_type": "code",
   "execution_count": null,
   "metadata": {},
   "outputs": [
    {
     "name": "stdout",
     "output_type": "stream",
     "text": [
      "I'd be happy to create a post announcing the new color selection feature for Unicorn Rentals. This is a great opportunity to highlight this exciting new option to our audience!\n",
      "Tool #1: publish_post\n",
      "The post has been successfully published to UniTok! I kept it playful and magical while clearly announcing the new color selection feature. I highlighted all the available unicorn colors (pink, blue, purple, green, yellow, and rainbow) and added a question to encourage engagement from our audience. The rainbow unicorn color was selected for the post icon since it's our most popular option. Let me know if you'd like to make any adjustments or create additional posts about this exciting new feature!"
     ]
    },
    {
     "ename": "AttributeError",
     "evalue": "'AgentResult' object has no attribute 'content'",
     "output_type": "error",
     "traceback": [
      "\u001b[31m---------------------------------------------------------------------------\u001b[39m",
      "\u001b[31mAttributeError\u001b[39m                            Traceback (most recent call last)",
      "\u001b[36mCell\u001b[39m\u001b[36m \u001b[39m\u001b[32mIn[11]\u001b[39m\u001b[32m, line 2\u001b[39m\n\u001b[32m      1\u001b[39m response = post_generator_agent(\u001b[33m\"\u001b[39m\u001b[33mCreate a post announcing our new feature that lets customers pick their favorite unicorn color.\u001b[39m\u001b[33m\"\u001b[39m)\n\u001b[32m----> \u001b[39m\u001b[32m2\u001b[39m \u001b[38;5;28mprint\u001b[39m(\u001b[43mresponse\u001b[49m\u001b[43m.\u001b[49m\u001b[43mcontent\u001b[49m)\n",
      "\u001b[31mAttributeError\u001b[39m: 'AgentResult' object has no attribute 'content'"
     ]
    }
   ],
   "source": [
    "response = post_generator_agent(\"Create a post announcing our new feature that lets customers pick their favorite unicorn color.\")\n",
    "print(response)"
   ]
  },
  {
   "cell_type": "markdown",
   "metadata": {},
   "source": [
    "Let's try another example, asking for a post about a specific unicorn color:"
   ]
  },
  {
   "cell_type": "code",
   "execution_count": null,
   "metadata": {},
   "outputs": [],
   "source": [
    "response = post_generator_agent(\"Create a post highlighting our pink unicorns and what makes them special.\")\n",
    "print(response.content)"
   ]
  },
  {
   "cell_type": "markdown",
   "metadata": {},
   "source": [
    "## Examining the Agent's Messages\n",
    "\n",
    "Let's look at the messages exchanged between us and the agent:"
   ]
  },
  {
   "cell_type": "code",
   "execution_count": null,
   "metadata": {},
   "outputs": [],
   "source": [
    "for message in post_generator_agent.messages:\n",
    "    print(f\"Role: {message['role']}\")\n",
    "    print(f\"Content: {message['content']}\")\n",
    "    print(\"---\")"
   ]
  },
  {
   "cell_type": "markdown",
   "metadata": {},
   "source": [
    "## Analyzing Tool Usage\n",
    "\n",
    "Let's examine how the agent used our custom tool:"
   ]
  },
  {
   "cell_type": "code",
   "execution_count": null,
   "metadata": {},
   "outputs": [],
   "source": [
    "for message in post_generator_agent.messages:\n",
    "    for content_item in message.get('content', []):\n",
    "        if isinstance(content_item, dict) and 'toolUse' in content_item:\n",
    "            tool_use = content_item['toolUse']\n",
    "            print(f\"Tool: {tool_use['name']}\")\n",
    "            print(f\"Input: {tool_use['input']}\")\n",
    "            print(\"---\")"
   ]
  },
  {
   "cell_type": "markdown",
   "metadata": {},
   "source": [
    "## Conclusion\n",
    "\n",
    "In this notebook, we've successfully created a Strands SDK agent that can generate social media posts for Unicorn Rentals and publish them to UniTok. We've learned how to:\n",
    "\n",
    "1. Create a custom tool using the `@tool` decorator\n",
    "2. Initialize a Strands agent with a BedrockModel\n",
    "3. Define a system prompt to guide the agent's behavior\n",
    "4. Interact with the agent to generate and publish posts\n",
    "5. Analyze the agent's messages and tool usage\n",
    "\n",
    "This agent can now be used by the Unicorn Rentals marketing team to quickly create and publish engaging social media content about their unicorn rental service and new color selection feature."
   ]
  }
 ],
 "metadata": {
  "kernelspec": {
   "display_name": "async-agents-workshop",
   "language": "python",
   "name": "python3"
  },
  "language_info": {
   "codemirror_mode": {
    "name": "ipython",
    "version": 3
   },
   "file_extension": ".py",
   "mimetype": "text/x-python",
   "name": "python",
   "nbconvert_exporter": "python",
   "pygments_lexer": "ipython3",
   "version": "3.11.3"
  }
 },
 "nbformat": 4,
 "nbformat_minor": 4
}
