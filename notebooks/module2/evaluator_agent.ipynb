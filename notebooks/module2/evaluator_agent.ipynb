{
 "cells": [
  {
   "cell_type": "markdown",
   "metadata": {},
   "source": [
    "# Module 2: Multi-Agent - Agent as Tool Pattern\n",
    "\n",
    "## Creating an Evaluator Agent for UniTok Posts\n",
    "\n",
    "In this notebook, we'll build on Module 1 by implementing an evaluator agent that ensures posts adhere to brand guidelines before publishing. We'll use the \"Agent as Tool\" pattern, where our post generator agent will use the evaluator agent as a specialized tool."
   ]
  },
  {
   "cell_type": "markdown",
   "metadata": {},
   "source": [
    "## The \"Agent as Tool\" Pattern\n",
    "\n",
    "The \"Agent as Tool\" pattern is an architectural approach where specialized AI agents are wrapped as callable functions (tools) that can be used by other agents. This creates a hierarchical structure where:\n",
    "\n",
    "1. A primary agent handles the main task and determines when to call specialized agents\n",
    "2. Specialized \"tool agents\" perform domain-specific tasks when called by the primary agent\n",
    "\n",
    "### Key Benefits\n",
    "\n",
    "- **Separation of concerns**: Each agent has a focused area of responsibility\n",
    "- **Specialized expertise**: Agents can be optimized for specific tasks with tailored system prompts\n",
    "- **Hierarchical delegation**: Clear chain of command for complex tasks\n",
    "- **Modular architecture**: Specialists can be added, removed, or modified independently\n",
    "- **Improved quality**: Multiple agents can provide checks and balances\n",
    "- **Feedback loops**: Agents can learn from each other's outputs\n",
    "\n",
    "In our case, we'll create:\n",
    "- A content evaluator agent specialized in ensuring posts adhere to brand guidelines\n",
    "- A feedback loop where the post generator can revise content based on evaluator feedback"
   ]
  },
  {
   "cell_type": "markdown",
   "metadata": {},
   "source": [
    "## Setup and Prerequisites\n",
    "\n",
    "First, let's install the required packages:"
   ]
  },
  {
   "cell_type": "code",
   "execution_count": null,
   "metadata": {},
   "outputs": [],
   "source": [
    "!pip install --upgrade strands-agents requests boto3"
   ]
  },
  {
   "cell_type": "markdown",
   "metadata": {},
   "source": [
    "Now let's import the necessary libraries:"
   ]
  },
  {
   "cell_type": "code",
   "execution_count": null,
   "metadata": {},
   "outputs": [],
   "source": [
    "import json\n",
    "import requests\n",
    "from strands import Agent, tool\n",
    "from strands.models import BedrockModel"
   ]
  },
  {
   "cell_type": "markdown",
   "metadata": {},
   "source": [
    "## Creating the Evaluator Agent\n",
    "\n",
    "First, let's create an evaluator agent that specializes in ensuring posts adhere to Unicorn Rentals' brand guidelines."
   ]
  },
  {
   "cell_type": "code",
   "execution_count": null,
   "metadata": {},
   "outputs": [],
   "source": [
    "# Define the system prompt for our evaluator agent\n",
    "EVALUATOR_SYSTEM_PROMPT = \"\"\"\n",
    "You are a specialized content evaluator for Unicorn Rentals, a company that offers unicorns for rent that kids and grown-ups can play with.\n",
    "\n",
    "Your task is to evaluate social media posts for UniTok, our unicorn-themed social media platform, and ensure they adhere to our brand guidelines.\n",
    "\n",
    "Brand Guidelines for Unicorn Rentals:\n",
    "1. Content must be family-friendly and positive\n",
    "2. Posts should highlight the magical experience of spending time with unicorns\n",
    "3. When mentioning our new color selection feature, it should be accurate (colors: pink, blue, purple, green, yellow, and rainbow)\n",
    "4. Our brand voice is magical, playful, and family-friendly\n",
    "5. Posts should be between 50-200 characters for optimal engagement\n",
    "6. Emojis should be used sparingly but effectively\n",
    "7. Content should appeal to our target audience: families with children, fantasy enthusiasts, and event planners\n",
    "\n",
    "For each post you evaluate:\n",
    "1. Check if it adheres to ALL brand guidelines\n",
    "2. Provide a clear APPROVED or REJECTED decision\n",
    "3. If rejected, provide specific feedback on what needs to be improved\n",
    "4. If approved, provide a brief explanation of why it meets our guidelines\n",
    "\n",
    "Your evaluation should be thorough but concise.\n",
    "\"\"\"\n",
    "\n",
    "# Initialize the model\n",
    "model = BedrockModel(\n",
    "    model_id=\"us.anthropic.claude-3-7-sonnet-20250219-v1:0\",\n",
    ")\n",
    "\n",
    "# Create the evaluator agent\n",
    "evaluator_agent = Agent(\n",
    "    model=model,\n",
    "    system_prompt=EVALUATOR_SYSTEM_PROMPT,\n",
    ")"
   ]
  },
  {
   "cell_type": "markdown",
   "metadata": {},
   "source": [
    "Let's test our evaluator agent with a few sample posts to see how it evaluates them:"
   ]
  },
  {
   "cell_type": "code",
   "execution_count": null,
   "metadata": {},
   "outputs": [],
   "source": [
    "# Test with a good post\n",
    "good_post = \"✨ Rainbow or Pink? Now YOU choose your unicorn's color! Our new feature lets kids pick their magical companion in their favorite shade. Book your enchanted playdate today! 🦄\"\n",
    "\n",
    "evaluation = evaluator_agent(f\"Please evaluate this social media post: '{good_post}'\")\n",
    "print(evaluation)"
   ]
  },
  {
   "cell_type": "code",
   "execution_count": null,
   "metadata": {},
   "outputs": [],
   "source": [
    "# Test with a post that violates guidelines\n",
    "bad_post = \"Our unicorns are now available in red, orange and black colors! Adults will love the scary black unicorn for Halloween parties! Book now for a wild night of unicorn fun!\"\n",
    "\n",
    "evaluation = evaluator_agent(f\"Please evaluate this social media post: '{bad_post}'\")\n",
    "print(evaluation)"
   ]
  },
  {
   "cell_type": "markdown",
   "metadata": {},
   "source": [
    "## Creating the Evaluator Tool\n",
    "\n",
    "Now, let's wrap our evaluator agent as a tool that can be used by other agents. This is the key step in implementing the \"Agent as Tool\" pattern."
   ]
  },
  {
   "cell_type": "code",
   "execution_count": null,
   "metadata": {},
   "outputs": [],
   "source": [
    "@tool\n",
    "def evaluate_post(content: str) -> str:\n",
    "    \"\"\"\n",
    "    Evaluate a social media post for adherence to Unicorn Rentals brand guidelines.\n",
    "    \n",
    "    Args:\n",
    "        content (str): The text content of the post to evaluate.\n",
    "        \n",
    "    Returns:\n",
    "        str: Evaluation result with APPROVED or REJECTED decision and specific feedback.\n",
    "    \"\"\"\n",
    "    try:\n",
    "        # Create a new evaluator agent instance\n",
    "        evaluator = Agent(\n",
    "            model=model,\n",
    "            system_prompt=EVALUATOR_SYSTEM_PROMPT,\n",
    "        )\n",
    "        \n",
    "        # Call the evaluator agent to evaluate the post\n",
    "        response = evaluator(f\"Please evaluate this social media post: '{content}'\")\n",
    "        \n",
    "        return str(response)\n",
    "    except Exception as e:\n",
    "        return f\"Error in post evaluation: {str(e)}\""
   ]
  },
  {
   "cell_type": "markdown",
   "metadata": {},
   "source": [
    "Let's test our evaluator tool directly:"
   ]
  },
  {
   "cell_type": "code",
   "execution_count": null,
   "metadata": {},
   "outputs": [],
   "source": [
    "test_post = \"Introducing our new unicorn colors! Now available in pink, blue, purple, green, yellow, and rainbow! 🦄✨\"\n",
    "\n",
    "evaluation_result = evaluate_post(test_post)"
   ]
  },
  {
   "cell_type": "markdown",
   "metadata": {},
   "source": [
    "## Creating the Publishing Tool\n",
    "\n",
    "Let's recreate the publishing tool from Module 1:"
   ]
  },
  {
   "cell_type": "code",
   "execution_count": null,
   "metadata": {},
   "outputs": [],
   "source": [
    "# Define the API endpoint\n",
    "# In a real deployment, this would be the actual API Gateway URL from CDK output\n",
    "API_ENDPOINT = \"https://08pzccde2k.execute-api.us-east-1.amazonaws.com/prod/posts\"  # Replace with your actual API endpoint\n",
    "\n",
    "@tool\n",
    "def publish_post(content: str, author: str = \"Unicorn Rentals\", unicorn_color: str = \"rainbow\", image_url: str = None) -> str:\n",
    "    \"\"\"\n",
    "    Publish a post to the UniTok social media platform.\n",
    "    \n",
    "    Args:\n",
    "        content (str): The text content of the post.\n",
    "        author (str, optional): The author of the post. Defaults to \"Unicorn Rentals\".\n",
    "        unicorn_color (str, optional): The color of the unicorn. Choose from: pink, blue, purple, green, yellow, or rainbow. Defaults to \"rainbow\".\n",
    "        image_url (str, optional): URL to an image to include with the post. Defaults to None.\n",
    "        \n",
    "    Returns:\n",
    "        str: A message indicating the post was published successfully, or an error message.\n",
    "    \"\"\"\n",
    "    try:\n",
    "        # Prepare the post data\n",
    "        post_data = {\n",
    "            \"content\": content,\n",
    "            \"author\": author,\n",
    "            \"unicornColor\": unicorn_color,\n",
    "        }\n",
    "        \n",
    "        if image_url:\n",
    "            post_data[\"imageUrl\"] = image_url\n",
    "            \n",
    "        # Send the post to the API\n",
    "        response = requests.post(API_ENDPOINT, json=post_data)\n",
    "        \n",
    "        # Check if the request was successful\n",
    "        if response.status_code == 201:\n",
    "            post_id = response.json().get(\"postId\")\n",
    "            return f\"Post published successfully! Post ID: {post_id}\"\n",
    "        else:\n",
    "            return f\"Failed to publish post. Status code: {response.status_code}, Response: {response.text}\"\n",
    "            \n",
    "    except Exception as e:\n",
    "        return f\"Error publishing post: {str(e)}\""
   ]
  },
  {
   "cell_type": "markdown",
   "metadata": {},
   "source": [
    "## Creating the Enhanced Post Generator Agent\n",
    "\n",
    "Now, let's create an enhanced post generator agent that uses the evaluator tool to ensure posts adhere to brand guidelines before publishing."
   ]
  },
  {
   "cell_type": "code",
   "execution_count": null,
   "metadata": {},
   "outputs": [],
   "source": [
    "# Define the system prompt for our enhanced post generator agent\n",
    "ENHANCED_GENERATOR_PROMPT = \"\"\"\n",
    "You are a creative social media manager for Unicorn Rentals, a company that offers unicorns for rent that kids and grown-ups can play with.\n",
    "\n",
    "Your task is to create engaging social media posts for UniTok, our unicorn-themed social media platform.\n",
    "Before publishing, you must use the evaluate_post tool to ensure your content adheres to our brand guidelines.\n",
    "\n",
    "Process for creating and publishing posts:\n",
    "1. Generate a creative post based on the user's request\n",
    "2. Use the evaluate_post tool to check if it meets our brand guidelines\n",
    "3. If the post is REJECTED, revise it based on the feedback and evaluate again\n",
    "4. Once the post is APPROVED, publish it using the publish_post tool\n",
    "\n",
    "Important information about Unicorn Rentals:\n",
    "- We offer unicorns in various colors: pink, blue, purple, green, yellow, and rainbow (our most popular)\n",
    "- Our new product feature allows customers to pick their favorite color unicorn to rent\n",
    "- Our target audience includes families with children, fantasy enthusiasts, and event planners\n",
    "- Our brand voice is magical, playful, and family-friendly\n",
    "\n",
    "When creating posts:\n",
    "- Keep content family-friendly and positive\n",
    "- Highlight the magical experience of spending time with unicorns\n",
    "- Mention the new color selection feature when appropriate\n",
    "- Use emojis sparingly but effectively\n",
    "- Keep posts between 50-200 characters for optimal engagement\n",
    "\n",
    "Always show your thought process when creating posts, evaluating them, and making revisions.\n",
    "\"\"\"\n",
    "\n",
    "# Create the enhanced post generator agent\n",
    "enhanced_post_generator = Agent(\n",
    "    model=model,\n",
    "    system_prompt=ENHANCED_GENERATOR_PROMPT,\n",
    "    tools=[evaluate_post, publish_post],\n",
    ")\n",
    "\n"
   ]
  },
  {
   "cell_type": "markdown",
   "metadata": {},
   "source": [
    "## Testing the Multi-Agent System\n",
    "\n",
    "Let's test our enhanced post generator agent to see how it creates posts, evaluates them, and revises them if necessary before publishing."
   ]
  },
  {
   "cell_type": "code",
   "execution_count": null,
   "metadata": {},
   "outputs": [],
   "source": [
    "response = enhanced_post_generator(\"Create a post announcing our new feature that lets customers pick their favorite unicorn color.\")\n",
    "print(response)"
   ]
  },
  {
   "cell_type": "markdown",
   "metadata": {},
   "source": [
    "Let's try another example that might require revision:"
   ]
  },
  {
   "cell_type": "code",
   "execution_count": null,
   "metadata": {},
   "outputs": [],
   "source": [
    "enhanced_post_generator = Agent(\n",
    "    model=model,\n",
    "    system_prompt=ENHANCED_GENERATOR_PROMPT,\n",
    "    tools=[evaluate_post, publish_post],\n",
    ")\n",
    "response = enhanced_post_generator(\"Create a post about our unicorns for an adult Halloween party. Make it really scary!\")"
   ]
  },
  {
   "cell_type": "markdown",
   "metadata": {},
   "source": [
    "## Viewing Posts on the UniTok Website\n",
    "\n",
    "To view the posts that our enhanced agent has created and published:\n",
    "\n",
    "1. Find the **UniTokUrl** from your CDK deployment output. It should look something like: `https://d123abc456def.cloudfront.net`\n",
    "2. Open this URL in your web browser\n",
    "3. You should see the posts that our agent has created and published, displayed in reverse chronological order\n",
    "\n",
    "Notice how the quality of posts has improved with the evaluator agent ensuring adherence to brand guidelines."
   ]
  },
  {
   "cell_type": "markdown",
   "metadata": {},
   "source": [
    "## Analyzing Tool Usage\n",
    "\n",
    "Let's examine how the agent used our custom tools:"
   ]
  },
  {
   "cell_type": "code",
   "execution_count": null,
   "metadata": {},
   "outputs": [],
   "source": [
    "for message in enhanced_post_generator.messages:\n",
    "    for content_item in message.get('content', []):\n",
    "        if isinstance(content_item, dict) and 'toolUse' in content_item:\n",
    "            tool_use = content_item['toolUse']\n",
    "            print(f\"Tool: {tool_use['name']}\")\n",
    "            print(f\"Input: {tool_use['input']}\")\n",
    "            print(\"---\")"
   ]
  },
  {
   "cell_type": "markdown",
   "metadata": {},
   "source": [
    "## Advantages of the Agent as Tool Pattern\n",
    "\n",
    "Through this implementation, we've demonstrated several key advantages of the \"Agent as Tool\" pattern:\n",
    "\n",
    "1. **Separation of concerns**:\n",
    "   - The post generator focuses on creativity and content creation\n",
    "   - The evaluator focuses on ensuring brand guideline adherence\n",
    "\n",
    "2. **Specialized expertise**:\n",
    "   - Each agent has a tailored system prompt optimized for its specific task\n",
    "   - The evaluator has detailed knowledge of brand guidelines\n",
    "   - The generator has creative freedom within defined constraints\n",
    "\n",
    "3. **Feedback loops**:\n",
    "   - The generator can learn from the evaluator's feedback\n",
    "   - Content quality improves through iterative refinement\n",
    "\n",
    "4. **Modular architecture**:\n",
    "   - We can modify the evaluator's guidelines without changing the generator\n",
    "   - We could add additional specialized agents (e.g., a hashtag generator, image suggester)\n",
    "\n",
    "5. **Quality control**:\n",
    "   - Posts are vetted before publishing\n",
    "   - Brand consistency is maintained\n",
    "\n",
    "This pattern mimics human team dynamics, where a creative writer might submit content to an editor for review before publication. The multi-agent approach allows for checks and balances that improve the overall quality of the output."
   ]
  },
  {
   "cell_type": "markdown",
   "metadata": {},
   "source": [
    "## Conclusion\n",
    "\n",
    "In this notebook, we've successfully implemented a multi-agent system using the \"Agent as Tool\" pattern. We've created:\n",
    "\n",
    "1. An evaluator agent specialized in ensuring posts adhere to brand guidelines\n",
    "2. An enhanced post generator that uses the evaluator as a tool\n",
    "3. A feedback loop where posts are revised based on evaluation results\n",
    "\n",
    "This approach demonstrates how multiple specialized agents can work together to produce higher quality results than a single agent working alone. The modular architecture also makes the system more maintainable and extensible.\n",
    "\n",
    "In the next module, we'll build on this foundation by adding human-in-the-loop approval workflows."
   ]
  }
 ],
 "metadata": {
  "kernelspec": {
   "display_name": "async-agents-workshop",
   "language": "python",
   "name": "python3"
  },
  "language_info": {
   "codemirror_mode": {
    "name": "ipython",
    "version": 3
   },
   "file_extension": ".py",
   "mimetype": "text/x-python",
   "name": "python",
   "nbconvert_exporter": "python",
   "pygments_lexer": "ipython3",
   "version": "3.11.3"
  }
 },
 "nbformat": 4,
 "nbformat_minor": 4
}
